{
 "cells": [
  {
   "cell_type": "markdown",
   "metadata": {},
   "source": [
    "# Easy tour of basic statistics using the \"R\" Programming Language"
   ]
  },
  {
   "cell_type": "markdown",
   "metadata": {},
   "source": [
    "##JKGL6GEV Prepared by Eswar Raman in February 2016"
   ]
  },
  {
   "cell_type": "markdown",
   "metadata": {},
   "source": [
    "Data represents measurements made within a specific context. And these measurements could be made of many attributes of  a process, a group of people or of stellar bodies or of biological mechanisms and so on. For the purpose of this discussion think of the specific units being measured as rows in a spreadsheet and the particular attributes of each of these units being measured as columns in the spreadsheet."
   ]
  },
  {
   "cell_type": "markdown",
   "metadata": {},
   "source": [
    "I have used the R language provided courtesy of the R Development Core Team (2008). R: A language and environment for\n",
    "statistical computing. R Foundation for Statistical Computing,   Vienna, Austria. ISBN 3-900051-07-0, URL http://www.R-project.org.\n"
   ]
  },
  {
   "cell_type": "markdown",
   "metadata": {},
   "source": [
    "## Basics of Data exploration"
   ]
  },
  {
   "cell_type": "markdown",
   "metadata": {},
   "source": [
    "Attributes can be considered to be of two differing kinds, if they group the units they are considered 'categorical' and if the attributes take numerical values they are 'quantitative' variables.Once we have the data, we need to start with a basic level of understanding of the data, how is the data grouped, what is a representative set of values for a specific attribute or how does the value of an attribute change by the category or group within the data.  "
   ]
  },
  {
   "cell_type": "markdown",
   "metadata": {},
   "source": [
    "### Plot Data"
   ]
  },
  {
   "cell_type": "markdown",
   "metadata": {},
   "source": [
    "Visual exploration of the data along with summaries of the data helps us find any overarching patterns as well as exceptions to patterns."
   ]
  },
  {
   "cell_type": "markdown",
   "metadata": {},
   "source": [
    "####Histograms"
   ]
  },
  {
   "cell_type": "markdown",
   "metadata": {},
   "source": [
    "A histogram breaks up the range of values listed for a specific attribute or variable and groups these into discrete classes. The idea is to then display the actual count or the percent of the whole that is contained in each of the classes. Some of the best practices in plotting a histogram include determining the right number of classes to group the values into and ensuring that in a given plot, the classes are of equal width."
   ]
  },
  {
   "cell_type": "markdown",
   "metadata": {},
   "source": [
    "##### Start by loading useful libraries for visualization such as lattice and ggplot2"
   ]
  },
  {
   "cell_type": "code",
   "execution_count": 14,
   "metadata": {
    "collapsed": false
   },
   "outputs": [
    {
     "name": "stderr",
     "output_type": "stream",
     "text": [
      "Warning message:\n",
      ": package 'ggplot2' was built under R version 3.2.3"
     ]
    }
   ],
   "source": [
    "library(ggplot2)\n",
    "library(lattice)"
   ]
  },
  {
   "cell_type": "markdown",
   "metadata": {},
   "source": [
    "###### One of the elementary steps that is required is to request visuals in-line, this definitely has to be one of the advantages of using the notebook"
   ]
  },
  {
   "cell_type": "code",
   "execution_count": 15,
   "metadata": {
    "collapsed": true
   },
   "outputs": [],
   "source": [
    "options(jupyter.plot_mimetypes = 'image/png')"
   ]
  },
  {
   "cell_type": "markdown",
   "metadata": {},
   "source": [
    "### Introduction to the data set\n",
    "#### I have selected the 'wiki4HE Data Set' from the UCI Machine Learning Repository.  This data set was provided courtesy of Meseguer, A., Aibar, E., LladÃ³s, J., MinguillÃ³n, J., Lerga, M. (2015). â€œFactors that influence the teaching use of Wikipedia in Higher Educationâ€. JASIST, Journal of the Association for Information Science and Technology. ISSN: 2330-1635. doi: 10.1002/asi.23488. \n",
    "Per sources listed above, this data set is a result of the study of the \" Ongoing research on university faculty perceptions and practices of using Wikipedia as a teaching resource\" ."
   ]
  },
  {
   "cell_type": "code",
   "execution_count": 2,
   "metadata": {
    "collapsed": true
   },
   "outputs": [],
   "source": [
    "# Read the data set from the web page, it is a ';' delimited file.\n",
    "wiki=read.csv('http://archive.ics.uci.edu/ml/machine-learning-databases/00334/wiki4HE.csv',sep=';')"
   ]
  },
  {
   "cell_type": "code",
   "execution_count": 82,
   "metadata": {
    "collapsed": false
   },
   "outputs": [
    {
     "name": "stdout",
     "output_type": "stream",
     "text": [
      "'data.frame':\t913 obs. of  53 variables:\n",
      " $ AGE           : int  40 42 37 40 51 47 43 55 54 50 ...\n",
      " $ GENDER        : int  0 0 0 0 0 0 0 0 0 0 ...\n",
      " $ DOMAIN        : Factor w/ 7 levels \"?\",\"1\",\"2\",\"3\",..: 3 6 5 5 7 5 5 7 2 5 ...\n",
      " $ PhD           : int  1 1 1 0 0 0 0 0 1 1 ...\n",
      " $ YEARSEXP      : Factor w/ 37 levels \"?\",\"0\",\"1\",\"10\",..: 8 12 7 7 36 11 5 6 8 20 ...\n",
      " $ UNIVERSITY    : int  1 1 1 1 1 1 1 1 1 1 ...\n",
      " $ UOC_POSITION  : Factor w/ 7 levels \"?\",\"1\",\"2\",\"3\",..: 3 3 4 4 4 4 4 4 3 3 ...\n",
      " $ OTHER_POSITION: Factor w/ 3 levels \"?\",\"1\",\"2\": 1 1 1 1 1 1 1 1 1 1 ...\n",
      " $ OTHERSTATUS   : Factor w/ 8 levels \"?\",\"1\",\"2\",\"3\",..: 1 1 1 1 1 1 1 1 1 1 ...\n",
      " $ USERWIKI      : Factor w/ 3 levels \"?\",\"0\",\"1\": 2 2 2 2 3 2 2 2 2 2 ...\n",
      " $ PU1           : Factor w/ 6 levels \"?\",\"1\",\"2\",\"3\",..: 5 3 3 4 5 3 5 5 5 5 ...\n",
      " $ PU2           : Factor w/ 6 levels \"?\",\"1\",\"2\",\"3\",..: 5 4 3 4 4 3 5 5 5 5 ...\n",
      " $ PU3           : Factor w/ 6 levels \"?\",\"1\",\"2\",\"3\",..: 4 4 3 5 6 4 5 6 6 5 ...\n",
      " $ PEU1          : Factor w/ 6 levels \"?\",\"1\",\"2\",\"3\",..: 6 5 5 4 6 6 6 5 5 6 ...\n",
      " $ PEU2          : Factor w/ 6 levels \"?\",\"1\",\"2\",\"3\",..: 6 5 5 4 5 5 1 4 6 6 ...\n",
      " $ PEU3          : Factor w/ 6 levels \"?\",\"1\",\"2\",\"3\",..: 4 4 4 4 4 4 6 5 5 1 ...\n",
      " $ ENJ1          : Factor w/ 6 levels \"?\",\"1\",\"2\",\"3\",..: 5 4 4 5 5 4 6 5 6 6 ...\n",
      " $ ENJ2          : Factor w/ 6 levels \"?\",\"1\",\"2\",\"3\",..: 5 5 4 4 5 4 6 4 6 5 ...\n",
      " $ Qu1           : Factor w/ 6 levels \"?\",\"1\",\"2\",\"3\",..: 4 5 3 4 5 4 5 4 5 5 ...\n",
      " $ Qu2           : Factor w/ 6 levels \"?\",\"1\",\"2\",\"3\",..: 4 5 3 5 6 4 5 4 5 5 ...\n",
      " $ Qu3           : Factor w/ 6 levels \"?\",\"1\",\"2\",\"3\",..: 3 4 3 4 5 4 5 4 3 5 ...\n",
      " $ Qu4           : Factor w/ 6 levels \"?\",\"1\",\"2\",\"3\",..: 3 4 6 4 4 5 3 4 6 3 ...\n",
      " $ Qu5           : Factor w/ 6 levels \"?\",\"1\",\"2\",\"3\",..: 4 3 4 4 5 5 5 5 4 4 ...\n",
      " $ Vis1          : Factor w/ 6 levels \"?\",\"1\",\"2\",\"3\",..: 4 4 3 4 5 4 5 4 5 4 ...\n",
      " $ Vis2          : Factor w/ 6 levels \"?\",\"1\",\"2\",\"3\",..: 4 4 4 5 5 5 5 4 4 1 ...\n",
      " $ Vis3          : Factor w/ 6 levels \"?\",\"1\",\"2\",\"3\",..: 2 2 3 4 5 5 5 5 5 4 ...\n",
      " $ Im1           : Factor w/ 6 levels \"?\",\"1\",\"2\",\"3\",..: 3 2 3 3 4 4 4 5 4 4 ...\n",
      " $ Im2           : Factor w/ 6 levels \"?\",\"1\",\"2\",\"3\",..: 5 3 5 3 3 6 6 6 4 6 ...\n",
      " $ Im3           : Factor w/ 6 levels \"?\",\"1\",\"2\",\"3\",..: 3 2 4 4 4 4 4 5 4 4 ...\n",
      " $ SA1           : Factor w/ 6 levels \"?\",\"1\",\"2\",\"3\",..: 5 5 5 6 6 6 6 6 6 5 ...\n",
      " $ SA2           : Factor w/ 6 levels \"?\",\"1\",\"2\",\"3\",..: 5 5 3 6 6 6 6 6 6 6 ...\n",
      " $ SA3           : Factor w/ 6 levels \"?\",\"1\",\"2\",\"3\",..: 5 5 5 6 6 6 6 6 5 6 ...\n",
      " $ Use1          : Factor w/ 6 levels \"?\",\"1\",\"2\",\"3\",..: 4 3 2 4 4 3 4 2 2 5 ...\n",
      " $ Use2          : Factor w/ 6 levels \"?\",\"1\",\"2\",\"3\",..: 2 3 2 4 4 2 5 3 2 2 ...\n",
      " $ Use3          : Factor w/ 6 levels \"?\",\"1\",\"2\",\"3\",..: 2 2 2 4 6 4 5 4 5 6 ...\n",
      " $ Use4          : Factor w/ 6 levels \"?\",\"1\",\"2\",\"3\",..: 3 2 2 4 6 3 4 4 5 5 ...\n",
      " $ Use5          : Factor w/ 6 levels \"?\",\"1\",\"2\",\"3\",..: 5 3 2 4 6 5 6 5 6 6 ...\n",
      " $ Pf1           : Factor w/ 6 levels \"?\",\"1\",\"2\",\"3\",..: 2 2 4 5 6 5 5 5 2 3 ...\n",
      " $ Pf2           : Factor w/ 6 levels \"?\",\"1\",\"2\",\"3\",..: 2 2 4 5 6 4 4 4 3 3 ...\n",
      " $ Pf3           : Factor w/ 6 levels \"?\",\"1\",\"2\",\"3\",..: 4 2 4 5 6 3 4 5 4 5 ...\n",
      " $ JR1           : Factor w/ 6 levels \"?\",\"1\",\"2\",\"3\",..: 5 5 5 6 4 5 6 5 4 5 ...\n",
      " $ JR2           : Factor w/ 6 levels \"?\",\"1\",\"2\",\"3\",..: 2 4 4 5 4 2 5 5 3 5 ...\n",
      " $ BI1           : Factor w/ 6 levels \"?\",\"1\",\"2\",\"3\",..: 3 3 2 4 6 5 4 4 5 6 ...\n",
      " $ BI2           : Factor w/ 6 levels \"?\",\"1\",\"2\",\"3\",..: 4 3 2 4 6 5 5 5 4 6 ...\n",
      " $ Inc1          : Factor w/ 6 levels \"?\",\"1\",\"2\",\"3\",..: 6 5 6 4 6 6 5 4 6 6 ...\n",
      " $ Inc2          : Factor w/ 6 levels \"?\",\"1\",\"2\",\"3\",..: 6 5 4 5 6 4 5 4 6 6 ...\n",
      " $ Inc3          : Factor w/ 6 levels \"?\",\"1\",\"2\",\"3\",..: 6 4 6 5 5 3 5 4 5 6 ...\n",
      " $ Inc4          : Factor w/ 6 levels \"?\",\"1\",\"2\",\"3\",..: 6 5 6 4 5 5 2 4 3 6 ...\n",
      " $ Exp1          : Factor w/ 6 levels \"?\",\"1\",\"2\",\"3\",..: 5 3 3 5 6 5 5 5 6 5 ...\n",
      " $ Exp2          : Factor w/ 6 levels \"?\",\"1\",\"2\",\"3\",..: 5 3 3 5 6 4 6 5 6 6 ...\n",
      " $ Exp3          : Factor w/ 6 levels \"?\",\"1\",\"2\",\"3\",..: 5 5 3 4 6 5 6 4 6 3 ...\n",
      " $ Exp4          : Factor w/ 6 levels \"?\",\"1\",\"2\",\"3\",..: 2 3 2 4 5 2 3 2 2 2 ...\n",
      " $ Exp5          : Factor w/ 6 levels \"?\",\"1\",\"2\",\"3\",..: 3 5 4 5 5 5 3 5 2 2 ...\n"
     ]
    }
   ],
   "source": [
    "# A quick overview of our data set\n",
    "str(wiki)"
   ]
  },
  {
   "cell_type": "markdown",
   "metadata": {},
   "source": [
    "####Here is an example of data exploration, we will plot the categorical variable 'Position held'."
   ]
  },
  {
   "cell_type": "code",
   "execution_count": 49,
   "metadata": {
    "collapsed": false,
    "scrolled": true
   },
   "outputs": [
    {
     "data": {
      "image/png": "[encoded data removed]"
     },
     "metadata": {},
     "output_type": "display_data"
    }
   ],
   "source": [
    "qplot(x = UOC_POSITION, color = UOC_POSITION,xlab='Academic Position Held', data = wiki, geom = \"bar\")"
   ]
  },
  {
   "cell_type": "markdown",
   "metadata": {},
   "source": [
    "#### It is not very clear from the bar chart as to which positions are being visualized, so Let us rename the UOC_POSITION to better visualize the categories. The documentation for the data set explains the categories for us, so we willl use the documentation to  map our categories.\n",
    "1=Professor; 2=Associate; 3=Assistant; 4=Lecturer; 5=Instructor; 6=Adjunct\n",
    "An example of a simple vector is shown below\n",
    "> a<-factor(c(1,2,2,1,3,4,2,1,NA,3,4,1,NA))\n",
    "> a\n",
    " [1] 1    2    2    1    3    4    2    1    <NA> 3    4    1    <NA>\n",
    "Levels: 1 2 3 4\n",
    "> levels(a)<-list(Unknown='<NA>',Alpha = '1',Beta='2',Gamma='3',Delta='4')\n",
    "> a\n",
    " [1] Alpha Beta  Beta  Alpha Gamma Delta Beta  Alpha <NA>  Gamma Delta Alpha\n",
    "[13] <NA> \n",
    "Levels: Unknown Alpha Beta Gamma Delta"
   ]
  },
  {
   "cell_type": "code",
   "execution_count": 3,
   "metadata": {
    "collapsed": true
   },
   "outputs": [],
   "source": [
    "levels(wiki$UOC_POSITION)=list(Professor='1',Associate='2',Assistant='3',Lecturer='4',Instructor='5',Adjunct='6',Unknown='?')"
   ]
  },
  {
   "cell_type": "code",
   "execution_count": 4,
   "metadata": {
    "collapsed": false
   },
   "outputs": [],
   "source": [
    "levels(wiki$PU1)=list(Never='1',Strongly_Disagree='2',Neutral='3',Strongly_Agree='4',Always='5',Unknown='?')\n",
    "levels(wiki$PU2)=list(Never='1',Strongly_Disagree='2',Neutral='3',Strongly_Agree='4',Always='5',Unknown='?')\n",
    "levels(wiki$PU3)=list(Never='1',Strongly_Disagree='2',Neutral='3',Strongly_Agree='4',Always='5',Unknown='?')"
   ]
  },
  {
   "cell_type": "markdown",
   "metadata": {},
   "source": [
    "#### Having mapped the category descriptions to the levels we are in a better position to prepare the bar chart that shows us the distribution of interviewees by position held at the university."
   ]
  },
  {
   "cell_type": "code",
   "execution_count": 84,
   "metadata": {
    "collapsed": false
   },
   "outputs": [
    {
     "data": {
      "image/png": "[encoded data removed]"
     },
     "metadata": {},
     "output_type": "display_data"
    }
   ],
   "source": [
    "qplot(x = UOC_POSITION, color = UOC_POSITION,xlab='Academic Position Held', data = wiki, geom = \"bar\")"
   ]
  },
  {
   "cell_type": "markdown",
   "metadata": {},
   "source": [
    "#### The above table piqued my curiosity further, so I decided to get contingency tables for position by attribute 'PU1' which stands for the perceived ease with which students can develop new skills as a result of using the wikipedia. "
   ]
  },
  {
   "cell_type": "code",
   "execution_count": 89,
   "metadata": {
    "collapsed": false
   },
   "outputs": [
    {
     "data": {
      "text/plain": [
       "            \n",
       "             Never Strongly_Disagree Neutral Strongly_Agree Always Unknown\n",
       "  Professor      0                 1       0              2      0       0\n",
       "  Associate      2                16      23             21      4       2\n",
       "  Assistant      1                11      20             15      3       0\n",
       "  Lecturer       1                 7       4              1      5       0\n",
       "  Instructor     0                 1       0              1      0       0\n",
       "  Adjunct       24               163     237            169     62       4\n",
       "  Unknown        7                17      46             30     12       1"
      ]
     },
     "execution_count": 89,
     "metadata": {},
     "output_type": "execute_result"
    }
   ],
   "source": [
    "table(wiki$UOC_POSITION,wiki$PU1)"
   ]
  },
  {
   "cell_type": "markdown",
   "metadata": {},
   "source": [
    "#### I was also interested in the general distribution of the interviewees as I could hypothesize that interviewees holding junior positions for the most part had to be younger and therefore more open to the idea of using wikis for education. \n",
    "It is important to note that a good number of respondents did not quote their position. We can perhaps make an educated guess as to their positions by looking at their votes , just perhaps as there is no conclusive evidence for that in this data set."
   ]
  },
  {
   "cell_type": "code",
   "execution_count": 75,
   "metadata": {
    "collapsed": false
   },
   "outputs": [
    {
     "data": {
      "text/html": [
       "<dl class=dl-horizontal>\n",
       "\t<dt>Professor</dt>\n",
       "\t\t<dd>3</dd>\n",
       "\t<dt>Associate</dt>\n",
       "\t\t<dd>68</dd>\n",
       "\t<dt>Assistant</dt>\n",
       "\t\t<dd>50</dd>\n",
       "\t<dt>Lecturer</dt>\n",
       "\t\t<dd>18</dd>\n",
       "\t<dt>Instructor</dt>\n",
       "\t\t<dd>2</dd>\n",
       "\t<dt>Adjunct</dt>\n",
       "\t\t<dd>659</dd>\n",
       "\t<dt>Unknown</dt>\n",
       "\t\t<dd>0</dd>\n",
       "\t<dt>NA's</dt>\n",
       "\t\t<dd>113</dd>\n",
       "</dl>\n"
      ],
      "text/latex": [
       "\\begin{description*}\n",
       "\\item[Professor] 3\n",
       "\\item[Associate] 68\n",
       "\\item[Assistant] 50\n",
       "\\item[Lecturer] 18\n",
       "\\item[Instructor] 2\n",
       "\\item[Adjunct] 659\n",
       "\\item[Unknown] 0\n",
       "\\item[NA's] 113\n",
       "\\end{description*}\n"
      ],
      "text/markdown": [
       "Professor\n",
       ":   3Associate\n",
       ":   68Assistant\n",
       ":   50Lecturer\n",
       ":   18Instructor\n",
       ":   2Adjunct\n",
       ":   659Unknown\n",
       ":   0NA's\n",
       ":   113\n",
       "\n"
      ],
      "text/plain": [
       " Professor  Associate  Assistant   Lecturer Instructor    Adjunct    Unknown \n",
       "         3         68         50         18          2        659          0 \n",
       "      NA's \n",
       "       113 "
      ]
     },
     "execution_count": 75,
     "metadata": {},
     "output_type": "execute_result"
    }
   ],
   "source": [
    "summary(wiki$UOC_POSITION)"
   ]
  },
  {
   "cell_type": "markdown",
   "metadata": {},
   "source": [
    "#### As a note for would be data scientists or analysts, the length function includes the 'na's in any listing so you have to explicitly remove this from your subsets."
   ]
  },
  {
   "cell_type": "code",
   "execution_count": 80,
   "metadata": {
    "collapsed": false
   },
   "outputs": [
    {
     "data": {
      "text/html": [
       "116"
      ],
      "text/latex": [
       "116"
      ],
      "text/markdown": [
       "116"
      ],
      "text/plain": [
       "[1] 116"
      ]
     },
     "execution_count": 80,
     "metadata": {},
     "output_type": "execute_result"
    },
    {
     "data": {
      "text/html": [
       "3"
      ],
      "text/latex": [
       "3"
      ],
      "text/markdown": [
       "3"
      ],
      "text/plain": [
       "[1] 3"
      ]
     },
     "execution_count": 80,
     "metadata": {},
     "output_type": "execute_result"
    },
    {
     "data": {
      "text/html": [
       "659"
      ],
      "text/latex": [
       "659"
      ],
      "text/markdown": [
       "659"
      ],
      "text/plain": [
       "[1] 659"
      ]
     },
     "execution_count": 80,
     "metadata": {},
     "output_type": "execute_result"
    },
    {
     "data": {
      "text/html": [
       "113"
      ],
      "text/latex": [
       "113"
      ],
      "text/markdown": [
       "113"
      ],
      "text/plain": [
       "[1] 113"
      ]
     },
     "execution_count": 80,
     "metadata": {},
     "output_type": "execute_result"
    },
    {
     "data": {
      "text/html": [
       "53"
      ],
      "text/latex": [
       "53"
      ],
      "text/markdown": [
       "53"
      ],
      "text/plain": [
       "[1] 53"
      ]
     },
     "execution_count": 80,
     "metadata": {},
     "output_type": "execute_result"
    },
    {
     "name": "stdout",
     "output_type": "stream",
     "text": [
      "'data.frame':\t913 obs. of  53 variables:\n",
      " $ AGE           : int  40 42 37 40 51 47 43 55 54 50 ...\n",
      " $ GENDER        : int  0 0 0 0 0 0 0 0 0 0 ...\n",
      " $ DOMAIN        : Factor w/ 7 levels \"?\",\"1\",\"2\",\"3\",..: 3 6 5 5 7 5 5 7 2 5 ...\n",
      " $ PhD           : int  1 1 1 0 0 0 0 0 1 1 ...\n",
      " $ YEARSEXP      : Factor w/ 37 levels \"?\",\"0\",\"1\",\"10\",..: 8 12 7 7 36 11 5 6 8 20 ...\n",
      " $ UNIVERSITY    : int  1 1 1 1 1 1 1 1 1 1 ...\n",
      " $ UOC_POSITION  : Factor w/ 7 levels \"Professor\",\"Associate\",..: 2 2 3 3 3 3 3 3 2 2 ...\n",
      " $ OTHER_POSITION: Factor w/ 3 levels \"?\",\"1\",\"2\": 1 1 1 1 1 1 1 1 1 1 ...\n",
      " $ OTHERSTATUS   : Factor w/ 8 levels \"?\",\"1\",\"2\",\"3\",..: 1 1 1 1 1 1 1 1 1 1 ...\n",
      " $ USERWIKI      : Factor w/ 3 levels \"?\",\"0\",\"1\": 2 2 2 2 3 2 2 2 2 2 ...\n",
      " $ PU1           : Factor w/ 6 levels \"?\",\"1\",\"2\",\"3\",..: 5 3 3 4 5 3 5 5 5 5 ...\n",
      " $ PU2           : Factor w/ 6 levels \"?\",\"1\",\"2\",\"3\",..: 5 4 3 4 4 3 5 5 5 5 ...\n",
      " $ PU3           : Factor w/ 6 levels \"?\",\"1\",\"2\",\"3\",..: 4 4 3 5 6 4 5 6 6 5 ...\n",
      " $ PEU1          : Factor w/ 6 levels \"?\",\"1\",\"2\",\"3\",..: 6 5 5 4 6 6 6 5 5 6 ...\n",
      " $ PEU2          : Factor w/ 6 levels \"?\",\"1\",\"2\",\"3\",..: 6 5 5 4 5 5 1 4 6 6 ...\n",
      " $ PEU3          : Factor w/ 6 levels \"?\",\"1\",\"2\",\"3\",..: 4 4 4 4 4 4 6 5 5 1 ...\n",
      " $ ENJ1          : Factor w/ 6 levels \"?\",\"1\",\"2\",\"3\",..: 5 4 4 5 5 4 6 5 6 6 ...\n",
      " $ ENJ2          : Factor w/ 6 levels \"?\",\"1\",\"2\",\"3\",..: 5 5 4 4 5 4 6 4 6 5 ...\n",
      " $ Qu1           : Factor w/ 6 levels \"?\",\"1\",\"2\",\"3\",..: 4 5 3 4 5 4 5 4 5 5 ...\n",
      " $ Qu2           : Factor w/ 6 levels \"?\",\"1\",\"2\",\"3\",..: 4 5 3 5 6 4 5 4 5 5 ...\n",
      " $ Qu3           : Factor w/ 6 levels \"?\",\"1\",\"2\",\"3\",..: 3 4 3 4 5 4 5 4 3 5 ...\n",
      " $ Qu4           : Factor w/ 6 levels \"?\",\"1\",\"2\",\"3\",..: 3 4 6 4 4 5 3 4 6 3 ...\n",
      " $ Qu5           : Factor w/ 6 levels \"?\",\"1\",\"2\",\"3\",..: 4 3 4 4 5 5 5 5 4 4 ...\n",
      " $ Vis1          : Factor w/ 6 levels \"?\",\"1\",\"2\",\"3\",..: 4 4 3 4 5 4 5 4 5 4 ...\n",
      " $ Vis2          : Factor w/ 6 levels \"?\",\"1\",\"2\",\"3\",..: 4 4 4 5 5 5 5 4 4 1 ...\n",
      " $ Vis3          : Factor w/ 6 levels \"?\",\"1\",\"2\",\"3\",..: 2 2 3 4 5 5 5 5 5 4 ...\n",
      " $ Im1           : Factor w/ 6 levels \"?\",\"1\",\"2\",\"3\",..: 3 2 3 3 4 4 4 5 4 4 ...\n",
      " $ Im2           : Factor w/ 6 levels \"?\",\"1\",\"2\",\"3\",..: 5 3 5 3 3 6 6 6 4 6 ...\n",
      " $ Im3           : Factor w/ 6 levels \"?\",\"1\",\"2\",\"3\",..: 3 2 4 4 4 4 4 5 4 4 ...\n",
      " $ SA1           : Factor w/ 6 levels \"?\",\"1\",\"2\",\"3\",..: 5 5 5 6 6 6 6 6 6 5 ...\n",
      " $ SA2           : Factor w/ 6 levels \"?\",\"1\",\"2\",\"3\",..: 5 5 3 6 6 6 6 6 6 6 ...\n",
      " $ SA3           : Factor w/ 6 levels \"?\",\"1\",\"2\",\"3\",..: 5 5 5 6 6 6 6 6 5 6 ...\n",
      " $ Use1          : Factor w/ 6 levels \"?\",\"1\",\"2\",\"3\",..: 4 3 2 4 4 3 4 2 2 5 ...\n",
      " $ Use2          : Factor w/ 6 levels \"?\",\"1\",\"2\",\"3\",..: 2 3 2 4 4 2 5 3 2 2 ...\n",
      " $ Use3          : Factor w/ 6 levels \"?\",\"1\",\"2\",\"3\",..: 2 2 2 4 6 4 5 4 5 6 ...\n",
      " $ Use4          : Factor w/ 6 levels \"?\",\"1\",\"2\",\"3\",..: 3 2 2 4 6 3 4 4 5 5 ...\n",
      " $ Use5          : Factor w/ 6 levels \"?\",\"1\",\"2\",\"3\",..: 5 3 2 4 6 5 6 5 6 6 ...\n",
      " $ Pf1           : Factor w/ 6 levels \"?\",\"1\",\"2\",\"3\",..: 2 2 4 5 6 5 5 5 2 3 ...\n",
      " $ Pf2           : Factor w/ 6 levels \"?\",\"1\",\"2\",\"3\",..: 2 2 4 5 6 4 4 4 3 3 ...\n",
      " $ Pf3           : Factor w/ 6 levels \"?\",\"1\",\"2\",\"3\",..: 4 2 4 5 6 3 4 5 4 5 ...\n",
      " $ JR1           : Factor w/ 6 levels \"?\",\"1\",\"2\",\"3\",..: 5 5 5 6 4 5 6 5 4 5 ...\n",
      " $ JR2           : Factor w/ 6 levels \"?\",\"1\",\"2\",\"3\",..: 2 4 4 5 4 2 5 5 3 5 ...\n",
      " $ BI1           : Factor w/ 6 levels \"?\",\"1\",\"2\",\"3\",..: 3 3 2 4 6 5 4 4 5 6 ...\n",
      " $ BI2           : Factor w/ 6 levels \"?\",\"1\",\"2\",\"3\",..: 4 3 2 4 6 5 5 5 4 6 ...\n",
      " $ Inc1          : Factor w/ 6 levels \"?\",\"1\",\"2\",\"3\",..: 6 5 6 4 6 6 5 4 6 6 ...\n",
      " $ Inc2          : Factor w/ 6 levels \"?\",\"1\",\"2\",\"3\",..: 6 5 4 5 6 4 5 4 6 6 ...\n",
      " $ Inc3          : Factor w/ 6 levels \"?\",\"1\",\"2\",\"3\",..: 6 4 6 5 5 3 5 4 5 6 ...\n",
      " $ Inc4          : Factor w/ 6 levels \"?\",\"1\",\"2\",\"3\",..: 6 5 6 4 5 5 2 4 3 6 ...\n",
      " $ Exp1          : Factor w/ 6 levels \"?\",\"1\",\"2\",\"3\",..: 5 3 3 5 6 5 5 5 6 5 ...\n",
      " $ Exp2          : Factor w/ 6 levels \"?\",\"1\",\"2\",\"3\",..: 5 3 3 5 6 4 6 5 6 6 ...\n",
      " $ Exp3          : Factor w/ 6 levels \"?\",\"1\",\"2\",\"3\",..: 5 5 3 4 6 5 6 4 6 3 ...\n",
      " $ Exp4          : Factor w/ 6 levels \"?\",\"1\",\"2\",\"3\",..: 2 3 2 4 5 2 3 2 2 2 ...\n",
      " $ Exp5          : Factor w/ 6 levels \"?\",\"1\",\"2\",\"3\",..: 3 5 4 5 5 5 3 5 2 2 ...\n"
     ]
    }
   ],
   "source": [
    "length(wiki$UOC_POSITION[wiki$UOC_POSITION =='Professor'])\n",
    "length(wiki$UOC_POSITION[wiki$UOC_POSITION =='Professor' & !is.na(wiki$UOC_POSITION)])\n",
    "length(wiki$UOC_POSITION[wiki$UOC_POSITION =='Adjunct' & !is.na(wiki$UOC_POSITION)])\n",
    "length(wiki$UOC_POSITION[wiki$UOC_POSITION =='NA'])\n",
    "length(wiki)\n",
    "str(wiki)"
   ]
  },
  {
   "cell_type": "markdown",
   "metadata": {},
   "source": [
    "#### At this point, I decided to have a closer look at the distribution of the PU1 recommendations by position. For the positions that have reported in numbers, the distribution is pretty even across the PU1 spectrum.This does not support any hypothesis on a younger population holding junior positions in general and therefore being more open to the idea of wikis."
   ]
  },
  {
   "cell_type": "code",
   "execution_count": 130,
   "metadata": {
    "collapsed": false
   },
   "outputs": [
    {
     "data": {
      "image/png": "[encoded data removed]"
     },
     "metadata": {},
     "output_type": "display_data"
    }
   ],
   "source": [
    "ggplot(data=wiki,aes(x=UOC_POSITION,y=PU1))+geom_jitter()"
   ]
  },
  {
   "cell_type": "markdown",
   "metadata": {},
   "source": [
    "#### Not satisfied with a one dimensional view such as the above I decided to visualize conditional distributions for which I have used visualization functions from the lattice package. The visualization shown below, definitely shows the almost even distribution across the PU1 spectrum. The strong positives and negatives balance out and the neutral ends up being the average."
   ]
  },
  {
   "cell_type": "code",
   "execution_count": 132,
   "metadata": {
    "collapsed": false
   },
   "outputs": [
    {
     "data": {
      "image/png": "[encoded data removed]"
     },
     "metadata": {},
     "output_type": "display_data"
    }
   ],
   "source": [
    "histogram(~PU1|UOC_POSITION,data=wiki,xlab=\"easier for students to develop new skills\",cex=0.1,aspect=0.4,type=\"count\",layout=c(2,4),scales=list(abbreviate=TRUE))"
   ]
  },
  {
   "cell_type": "markdown",
   "metadata": {},
   "source": [
    "#### The histograms shown below plot the 'wiki is iseful for teaching' variable."
   ]
  },
  {
   "cell_type": "code",
   "execution_count": 131,
   "metadata": {
    "collapsed": false
   },
   "outputs": [
    {
     "data": {
      "image/png": "[encoded data removed]"
     },
     "metadata": {},
     "output_type": "display_data"
    }
   ],
   "source": [
    "histogram(~PU3|UOC_POSITION,data=wiki,xlab=\"wiki is useful for teaching\",cex=0.1,aspect=0.4,type=\"count\",layout=c(2,4),scales=list(abbreviate=TRUE))"
   ]
  },
  {
   "cell_type": "markdown",
   "metadata": {},
   "source": [
    "#### The next part involves the possibility of age being a factor in the advocacy for wikis. But before we get to distribution by age, we will tabulate the conditional distribution of PU1 by 'Adjunct' interviewees."
   ]
  },
  {
   "cell_type": "code",
   "execution_count": 12,
   "metadata": {
    "collapsed": false
   },
   "outputs": [
    {
     "data": {
      "text/plain": [
       "\n",
       "            Never Strongly_Disagree           Neutral    Strongly_Agree \n",
       "               24               163               237               169 \n",
       "           Always           Unknown \n",
       "               62                 4 "
      ]
     },
     "execution_count": 12,
     "metadata": {},
     "output_type": "execute_result"
    }
   ],
   "source": [
    "table(wiki$PU1[wiki$UOC_POSITION =='Adjunct' & !is.na(wiki$UOC_POSITION)])"
   ]
  },
  {
   "cell_type": "markdown",
   "metadata": {},
   "source": [
    "#### We will create a conditional distribution of 'Adjunct' interviewees by age next. As you will notice it is not very useful from a big picture view."
   ]
  },
  {
   "cell_type": "code",
   "execution_count": 19,
   "metadata": {
    "collapsed": false
   },
   "outputs": [
    {
     "data": {
      "text/plain": [
       "                   \n",
       "                    23 24 26 27 28 29 30 31 32 33 34 35 36 37 38 39 40 41 42 43\n",
       "  Never              0  0  0  1  1  0  0  1  0  2  1  0  0  0  0  1  0  1  2  0\n",
       "  Strongly_Disagree  1  1  0  1  0  1  2  4  4 11  5  5  4  4  6  5  6  7 16 12\n",
       "  Neutral            0  0  1  0  3  1  2  7  5 13 11  9 12 10  9 12 13 10  7 11\n",
       "  Strongly_Agree     0  1  0  0  3  2  3  3  5  3  5  9  8  3 12 13  6 10  8  9\n",
       "  Always             0  0  0  0  1  2  0  1  2  2  3  3  2  4  3  5  1  1  5  2\n",
       "  Unknown            0  0  0  0  0  0  0  0  1  0  0  0  0  0  1  0  0  0  0  1\n",
       "                   \n",
       "                    44 45 46 47 48 49 50 51 52 53 54 55 56 57 58 59 60 62 63 64\n",
       "  Never              0  0  2  1  2  1  4  0  2  0  1  0  1  0  0  0  0  0  0  0\n",
       "  Strongly_Disagree  9  8  6  6  6  7  4  1  4  1  2  0  5  2  2  1  1  1  1  0\n",
       "  Neutral            6 14 11 11  8  8  6  8  5  7  2  4  2  0  2  1  1  0  2  1\n",
       "  Strongly_Agree     9 10  7  4  7  7  6  2  4  1  2  1  1  3  0  0  0  1  1  0\n",
       "  Always             5  1  6  1  1  2  1  0  1  1  2  2  1  0  0  0  0  0  0  0\n",
       "  Unknown            0  0  0  0  0  1  0  0  0  0  0  0  0  0  0  0  0  0  0  0\n",
       "                   \n",
       "                    65 67 68 69\n",
       "  Never              0  0  0  0\n",
       "  Strongly_Disagree  0  1  0  0\n",
       "  Neutral            1  0  0  1\n",
       "  Strongly_Agree     0  0  0  0\n",
       "  Always             0  0  1  0\n",
       "  Unknown            0  0  0  0"
      ]
     },
     "execution_count": 19,
     "metadata": {},
     "output_type": "execute_result"
    }
   ],
   "source": [
    "table(wiki$PU1[wiki$UOC_POSITION =='Adjunct' & !is.na(wiki$UOC_POSITION)],wiki$AGE[wiki$UOC_POSITION =='Adjunct' & !is.na(wiki$UOC_POSITION)])"
   ]
  },
  {
   "cell_type": "markdown",
   "metadata": {},
   "source": [
    "#### To make the conditional distribution from above more useful, I will group the ages into buckets.I will add a column with the age bracket assignment and then use the new column to create the conditional distribution."
   ]
  },
  {
   "cell_type": "code",
   "execution_count": 25,
   "metadata": {
    "collapsed": false
   },
   "outputs": [],
   "source": [
    "#> b<-seq(23,69,by=5)\n",
    "#> b\n",
    "# [1] 23 28 33 38 43 48 53 58 63 68\n",
    "#> c<-seq(23,69,by=1)\n",
    "#> c\n",
    "# [1] 23 24 25 26 27 28 29 30 31 32 33 34 35 36 37 38 39 40 41 42 43 44 45 46 47\n",
    "#[26] 48 49 50 51 52 53 54 55 56 57 58 59 60 61 62 63 64 65 66 67 68 69\n",
    "\n",
    "\n",
    "age_breaks<-seq(23,69,by=5)\n",
    "age_brackets<-cut(wiki$AGE,breaks=seq(23,69,by=5))\n",
    "wiki['age_brackets']=cut(wiki$AGE,breaks=seq(23,69,by=5))\n"
   ]
  },
  {
   "cell_type": "code",
   "execution_count": 26,
   "metadata": {
    "collapsed": false
   },
   "outputs": [
    {
     "name": "stdout",
     "output_type": "stream",
     "text": [
      "'data.frame':\t913 obs. of  54 variables:\n",
      " $ AGE           : int  40 42 37 40 51 47 43 55 54 50 ...\n",
      " $ GENDER        : int  0 0 0 0 0 0 0 0 0 0 ...\n",
      " $ DOMAIN        : Factor w/ 7 levels \"?\",\"1\",\"2\",\"3\",..: 3 6 5 5 7 5 5 7 2 5 ...\n",
      " $ PhD           : int  1 1 1 0 0 0 0 0 1 1 ...\n",
      " $ YEARSEXP      : Factor w/ 37 levels \"?\",\"0\",\"1\",\"10\",..: 8 12 7 7 36 11 5 6 8 20 ...\n",
      " $ UNIVERSITY    : int  1 1 1 1 1 1 1 1 1 1 ...\n",
      " $ UOC_POSITION  : Factor w/ 7 levels \"Professor\",\"Associate\",..: 2 2 3 3 3 3 3 3 2 2 ...\n",
      " $ OTHER_POSITION: Factor w/ 3 levels \"?\",\"1\",\"2\": 1 1 1 1 1 1 1 1 1 1 ...\n",
      " $ OTHERSTATUS   : Factor w/ 8 levels \"?\",\"1\",\"2\",\"3\",..: 1 1 1 1 1 1 1 1 1 1 ...\n",
      " $ USERWIKI      : Factor w/ 3 levels \"?\",\"0\",\"1\": 2 2 2 2 3 2 2 2 2 2 ...\n",
      " $ PU1           : Factor w/ 6 levels \"Never\",\"Strongly_Disagree\",..: 4 2 2 3 4 2 4 4 4 4 ...\n",
      " $ PU2           : Factor w/ 6 levels \"Never\",\"Strongly_Disagree\",..: 4 3 2 3 3 2 4 4 4 4 ...\n",
      " $ PU3           : Factor w/ 6 levels \"Never\",\"Strongly_Disagree\",..: 3 3 2 4 5 3 4 5 5 4 ...\n",
      " $ PEU1          : Factor w/ 6 levels \"?\",\"1\",\"2\",\"3\",..: 6 5 5 4 6 6 6 5 5 6 ...\n",
      " $ PEU2          : Factor w/ 6 levels \"?\",\"1\",\"2\",\"3\",..: 6 5 5 4 5 5 1 4 6 6 ...\n",
      " $ PEU3          : Factor w/ 6 levels \"?\",\"1\",\"2\",\"3\",..: 4 4 4 4 4 4 6 5 5 1 ...\n",
      " $ ENJ1          : Factor w/ 6 levels \"?\",\"1\",\"2\",\"3\",..: 5 4 4 5 5 4 6 5 6 6 ...\n",
      " $ ENJ2          : Factor w/ 6 levels \"?\",\"1\",\"2\",\"3\",..: 5 5 4 4 5 4 6 4 6 5 ...\n",
      " $ Qu1           : Factor w/ 6 levels \"?\",\"1\",\"2\",\"3\",..: 4 5 3 4 5 4 5 4 5 5 ...\n",
      " $ Qu2           : Factor w/ 6 levels \"?\",\"1\",\"2\",\"3\",..: 4 5 3 5 6 4 5 4 5 5 ...\n",
      " $ Qu3           : Factor w/ 6 levels \"?\",\"1\",\"2\",\"3\",..: 3 4 3 4 5 4 5 4 3 5 ...\n",
      " $ Qu4           : Factor w/ 6 levels \"?\",\"1\",\"2\",\"3\",..: 3 4 6 4 4 5 3 4 6 3 ...\n",
      " $ Qu5           : Factor w/ 6 levels \"?\",\"1\",\"2\",\"3\",..: 4 3 4 4 5 5 5 5 4 4 ...\n",
      " $ Vis1          : Factor w/ 6 levels \"?\",\"1\",\"2\",\"3\",..: 4 4 3 4 5 4 5 4 5 4 ...\n",
      " $ Vis2          : Factor w/ 6 levels \"?\",\"1\",\"2\",\"3\",..: 4 4 4 5 5 5 5 4 4 1 ...\n",
      " $ Vis3          : Factor w/ 6 levels \"?\",\"1\",\"2\",\"3\",..: 2 2 3 4 5 5 5 5 5 4 ...\n",
      " $ Im1           : Factor w/ 6 levels \"?\",\"1\",\"2\",\"3\",..: 3 2 3 3 4 4 4 5 4 4 ...\n",
      " $ Im2           : Factor w/ 6 levels \"?\",\"1\",\"2\",\"3\",..: 5 3 5 3 3 6 6 6 4 6 ...\n",
      " $ Im3           : Factor w/ 6 levels \"?\",\"1\",\"2\",\"3\",..: 3 2 4 4 4 4 4 5 4 4 ...\n",
      " $ SA1           : Factor w/ 6 levels \"?\",\"1\",\"2\",\"3\",..: 5 5 5 6 6 6 6 6 6 5 ...\n",
      " $ SA2           : Factor w/ 6 levels \"?\",\"1\",\"2\",\"3\",..: 5 5 3 6 6 6 6 6 6 6 ...\n",
      " $ SA3           : Factor w/ 6 levels \"?\",\"1\",\"2\",\"3\",..: 5 5 5 6 6 6 6 6 5 6 ...\n",
      " $ Use1          : Factor w/ 6 levels \"?\",\"1\",\"2\",\"3\",..: 4 3 2 4 4 3 4 2 2 5 ...\n",
      " $ Use2          : Factor w/ 6 levels \"?\",\"1\",\"2\",\"3\",..: 2 3 2 4 4 2 5 3 2 2 ...\n",
      " $ Use3          : Factor w/ 6 levels \"?\",\"1\",\"2\",\"3\",..: 2 2 2 4 6 4 5 4 5 6 ...\n",
      " $ Use4          : Factor w/ 6 levels \"?\",\"1\",\"2\",\"3\",..: 3 2 2 4 6 3 4 4 5 5 ...\n",
      " $ Use5          : Factor w/ 6 levels \"?\",\"1\",\"2\",\"3\",..: 5 3 2 4 6 5 6 5 6 6 ...\n",
      " $ Pf1           : Factor w/ 6 levels \"?\",\"1\",\"2\",\"3\",..: 2 2 4 5 6 5 5 5 2 3 ...\n",
      " $ Pf2           : Factor w/ 6 levels \"?\",\"1\",\"2\",\"3\",..: 2 2 4 5 6 4 4 4 3 3 ...\n",
      " $ Pf3           : Factor w/ 6 levels \"?\",\"1\",\"2\",\"3\",..: 4 2 4 5 6 3 4 5 4 5 ...\n",
      " $ JR1           : Factor w/ 6 levels \"?\",\"1\",\"2\",\"3\",..: 5 5 5 6 4 5 6 5 4 5 ...\n",
      " $ JR2           : Factor w/ 6 levels \"?\",\"1\",\"2\",\"3\",..: 2 4 4 5 4 2 5 5 3 5 ...\n",
      " $ BI1           : Factor w/ 6 levels \"?\",\"1\",\"2\",\"3\",..: 3 3 2 4 6 5 4 4 5 6 ...\n",
      " $ BI2           : Factor w/ 6 levels \"?\",\"1\",\"2\",\"3\",..: 4 3 2 4 6 5 5 5 4 6 ...\n",
      " $ Inc1          : Factor w/ 6 levels \"?\",\"1\",\"2\",\"3\",..: 6 5 6 4 6 6 5 4 6 6 ...\n",
      " $ Inc2          : Factor w/ 6 levels \"?\",\"1\",\"2\",\"3\",..: 6 5 4 5 6 4 5 4 6 6 ...\n",
      " $ Inc3          : Factor w/ 6 levels \"?\",\"1\",\"2\",\"3\",..: 6 4 6 5 5 3 5 4 5 6 ...\n",
      " $ Inc4          : Factor w/ 6 levels \"?\",\"1\",\"2\",\"3\",..: 6 5 6 4 5 5 2 4 3 6 ...\n",
      " $ Exp1          : Factor w/ 6 levels \"?\",\"1\",\"2\",\"3\",..: 5 3 3 5 6 5 5 5 6 5 ...\n",
      " $ Exp2          : Factor w/ 6 levels \"?\",\"1\",\"2\",\"3\",..: 5 3 3 5 6 4 6 5 6 6 ...\n",
      " $ Exp3          : Factor w/ 6 levels \"?\",\"1\",\"2\",\"3\",..: 5 5 3 4 6 5 6 4 6 3 ...\n",
      " $ Exp4          : Factor w/ 6 levels \"?\",\"1\",\"2\",\"3\",..: 2 3 2 4 5 2 3 2 2 2 ...\n",
      " $ Exp5          : Factor w/ 6 levels \"?\",\"1\",\"2\",\"3\",..: 3 5 4 5 5 5 3 5 2 2 ...\n",
      " $ age_brackets  : Factor w/ 9 levels \"(23,28]\",\"(28,33]\",..: 4 4 3 4 6 5 4 7 7 6 ...\n"
     ]
    }
   ],
   "source": [
    "str(wiki)"
   ]
  },
  {
   "cell_type": "markdown",
   "metadata": {},
   "source": [
    "#### At this point, we are ready to create the conditional distribution and this time I will plot the histogram directly. As we can see there is no evident bias in the lower age groups, for the most part they are neutral and we have a distribution approaching the normal. So it would seem like the group is not particularly favorably disposed to the use of wiki by students."
   ]
  },
  {
   "cell_type": "code",
   "execution_count": 29,
   "metadata": {
    "collapsed": false
   },
   "outputs": [
    {
     "data": {
      "image/png": "[encoded data removed]"
     },
     "metadata": {},
     "output_type": "display_data"
    }
   ],
   "source": [
    "histogram(~wiki$PU1[wiki$UOC_POSITION =='Adjunct' & !is.na(wiki$UOC_POSITION)]|age_brackets,main=\"Age wise distribution for Adjunct Interviewees\",data=wiki,xlab=\"easier for students\",cex=0.1,aspect=0.4,type=\"count\",scales=list(abbreviate=TRUE))"
   ]
  },
  {
   "cell_type": "markdown",
   "metadata": {
    "collapsed": true
   },
   "source": [
    "####Footnotes\n",
    "1) R language provided courtesy of the R Development Core Team (2008). R: A language and environment for statistical computing. R Foundation for Statistical Computing, Vienna, Austria. ISBN 3-900051-07-0, URL http://www.R-project.org.\n",
    "2)'wiki4HE Data Set' from the UCI Machine Learning Repository.  This data set was provided courtesy of Meseguer, A., Aibar, E., LladÃ³s, J., MinguillÃ³n, J., Lerga, M. (2015). â€œFactors that influence the teaching use of Wikipedia in Higher Educationâ€. JASIST, Journal of the Association for Information Science and Technology. ISSN: 2330-1635. doi: 10.1002/asi.23488.¶\n",
    "3)Copyright © 2016 by Eswar Raman\n"
   ]
  },
  {
   "cell_type": "code",
   "execution_count": null,
   "metadata": {
    "collapsed": true
   },
   "outputs": [],
   "source": []
  }
 ],
 "metadata": {
  "kernelspec": {
   "display_name": "R",
   "language": "R",
   "name": "ir"
  },
  "language_info": {
   "codemirror_mode": "r",
   "file_extension": ".r",
   "mimetype": "text/x-r-source",
   "name": "R",
   "pygments_lexer": "r",
   "version": "3.2.2"
  }
 },
 "nbformat": 4,
 "nbformat_minor": 0
}
